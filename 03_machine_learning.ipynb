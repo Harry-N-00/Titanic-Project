{
 "cells": [
  {
   "cell_type": "markdown",
   "id": "9c24a103",
   "metadata": {},
   "source": [
    "# Machine Learning (Titanic)"
   ]
  },
  {
   "cell_type": "markdown",
   "id": "2d3be998",
   "metadata": {},
   "source": [
    "After exploring the Titanic dataset in the previous project, valuable insights were gained to guide the next step: building an optimal machine learning model to predict passenger survival. In this stage, two models will be developed and their performance compared - Logistic Regression and Random Forest.\n",
    "\n",
    "\n",
    "#### Content:\n",
    "- Libraries & Dataset\n",
    "- Preprocessing\n",
    "- Data Modelling\n",
    "- Comparing Models\n",
    "- Interpretations\n",
    "- Conclusion\n",
    "- Data Export Process"
   ]
  },
  {
   "cell_type": "markdown",
   "id": "02e77ef3",
   "metadata": {},
   "source": [
    "## Libraries & Dataset"
   ]
  },
  {
   "cell_type": "code",
   "execution_count": 642,
   "id": "66482721",
   "metadata": {},
   "outputs": [],
   "source": [
    "# Import libraries\n",
    "\n",
    "import pandas as pd\n",
    "import numpy as np\n",
    "\n",
    "import seaborn as sns\n",
    "import matplotlib.pyplot as plt\n",
    "\n",
    "from sklearn.linear_model import LogisticRegression\n",
    "from sklearn.ensemble import RandomForestClassifier\n",
    "\n",
    "from sklearn.model_selection import train_test_split\n",
    "from sklearn.preprocessing import StandardScaler\n",
    "from sklearn.metrics import accuracy_score, confusion_matrix, classification_report\n",
    "from sklearn.metrics import roc_auc_score\n",
    "from sklearn.metrics import roc_curve, auc"
   ]
  },
  {
   "cell_type": "code",
   "execution_count": 643,
   "id": "4ff91dd9",
   "metadata": {},
   "outputs": [
    {
     "data": {
      "text/html": [
       "<div>\n",
       "<style scoped>\n",
       "    .dataframe tbody tr th:only-of-type {\n",
       "        vertical-align: middle;\n",
       "    }\n",
       "\n",
       "    .dataframe tbody tr th {\n",
       "        vertical-align: top;\n",
       "    }\n",
       "\n",
       "    .dataframe thead th {\n",
       "        text-align: right;\n",
       "    }\n",
       "</style>\n",
       "<table border=\"1\" class=\"dataframe\">\n",
       "  <thead>\n",
       "    <tr style=\"text-align: right;\">\n",
       "      <th></th>\n",
       "      <th>Survived</th>\n",
       "      <th>Pclass</th>\n",
       "      <th>Sex</th>\n",
       "      <th>Age</th>\n",
       "      <th>SibSp</th>\n",
       "      <th>Parch</th>\n",
       "      <th>Fare</th>\n",
       "      <th>Embarked</th>\n",
       "      <th>FamilyMembers</th>\n",
       "    </tr>\n",
       "  </thead>\n",
       "  <tbody>\n",
       "    <tr>\n",
       "      <th>0</th>\n",
       "      <td>0</td>\n",
       "      <td>3</td>\n",
       "      <td>male</td>\n",
       "      <td>22.0</td>\n",
       "      <td>1</td>\n",
       "      <td>0</td>\n",
       "      <td>7.2500</td>\n",
       "      <td>S</td>\n",
       "      <td>2</td>\n",
       "    </tr>\n",
       "    <tr>\n",
       "      <th>1</th>\n",
       "      <td>1</td>\n",
       "      <td>1</td>\n",
       "      <td>female</td>\n",
       "      <td>38.0</td>\n",
       "      <td>1</td>\n",
       "      <td>0</td>\n",
       "      <td>71.2833</td>\n",
       "      <td>C</td>\n",
       "      <td>2</td>\n",
       "    </tr>\n",
       "    <tr>\n",
       "      <th>2</th>\n",
       "      <td>1</td>\n",
       "      <td>3</td>\n",
       "      <td>female</td>\n",
       "      <td>26.0</td>\n",
       "      <td>0</td>\n",
       "      <td>0</td>\n",
       "      <td>7.9250</td>\n",
       "      <td>S</td>\n",
       "      <td>1</td>\n",
       "    </tr>\n",
       "    <tr>\n",
       "      <th>3</th>\n",
       "      <td>1</td>\n",
       "      <td>1</td>\n",
       "      <td>female</td>\n",
       "      <td>35.0</td>\n",
       "      <td>1</td>\n",
       "      <td>0</td>\n",
       "      <td>53.1000</td>\n",
       "      <td>S</td>\n",
       "      <td>2</td>\n",
       "    </tr>\n",
       "    <tr>\n",
       "      <th>4</th>\n",
       "      <td>0</td>\n",
       "      <td>3</td>\n",
       "      <td>male</td>\n",
       "      <td>35.0</td>\n",
       "      <td>0</td>\n",
       "      <td>0</td>\n",
       "      <td>8.0500</td>\n",
       "      <td>S</td>\n",
       "      <td>1</td>\n",
       "    </tr>\n",
       "  </tbody>\n",
       "</table>\n",
       "</div>"
      ],
      "text/plain": [
       "   Survived  Pclass     Sex   Age  SibSp  Parch     Fare Embarked  \\\n",
       "0         0       3    male  22.0      1      0   7.2500        S   \n",
       "1         1       1  female  38.0      1      0  71.2833        C   \n",
       "2         1       3  female  26.0      0      0   7.9250        S   \n",
       "3         1       1  female  35.0      1      0  53.1000        S   \n",
       "4         0       3    male  35.0      0      0   8.0500        S   \n",
       "\n",
       "   FamilyMembers  \n",
       "0              2  \n",
       "1              2  \n",
       "2              1  \n",
       "3              2  \n",
       "4              1  "
      ]
     },
     "execution_count": 643,
     "metadata": {},
     "output_type": "execute_result"
    }
   ],
   "source": [
    "# Read dataset\n",
    "\n",
    "df = pd.read_csv(\"titanic_cleaned_age_imp.csv\")\n",
    "df.head()"
   ]
  },
  {
   "cell_type": "markdown",
   "id": "9ff9d5e3",
   "metadata": {},
   "source": [
    "## Preprocessing"
   ]
  },
  {
   "cell_type": "markdown",
   "id": "0e593849",
   "metadata": {},
   "source": [
    "Logistic Regression and Random Forest models cannot directly process raw categorical data, so categorical features will be encoded during the preprocessing stage."
   ]
  },
  {
   "cell_type": "markdown",
   "id": "8a205d57",
   "metadata": {},
   "source": [
    "### Removing Columns"
   ]
  },
  {
   "cell_type": "code",
   "execution_count": 644,
   "id": "f6e90a6f",
   "metadata": {},
   "outputs": [
    {
     "data": {
      "text/plain": [
       "Survived         0\n",
       "Pclass           0\n",
       "Sex              0\n",
       "Age              0\n",
       "SibSp            0\n",
       "Parch            0\n",
       "Fare             0\n",
       "Embarked         0\n",
       "FamilyMembers    0\n",
       "dtype: int64"
      ]
     },
     "execution_count": 644,
     "metadata": {},
     "output_type": "execute_result"
    }
   ],
   "source": [
    "# Checking for missing data\n",
    "\n",
    "df.isnull().sum()"
   ]
  },
  {
   "cell_type": "code",
   "execution_count": 645,
   "id": "7ecbedc6",
   "metadata": {},
   "outputs": [
    {
     "data": {
      "text/plain": [
       "Index(['Survived', 'Pclass', 'Sex', 'Age', 'Fare', 'Embarked',\n",
       "       'FamilyMembers'],\n",
       "      dtype='object')"
      ]
     },
     "execution_count": 645,
     "metadata": {},
     "output_type": "execute_result"
    }
   ],
   "source": [
    "# Removing SibSp & Parch\n",
    "\n",
    "df.drop(['SibSp', 'Parch'], axis=1, inplace=True)\n",
    "\n",
    "\n",
    "# Show updated columns\n",
    "\n",
    "df.columns"
   ]
  },
  {
   "cell_type": "markdown",
   "id": "03189412",
   "metadata": {},
   "source": [
    "As noted in the EDA project, the SibSp and Parch columns are removed to avoid redundancy and multicollinearity, since the FamilyMembers feature is derived by combining these two columns and adding one."
   ]
  },
  {
   "cell_type": "markdown",
   "id": "daa6cc58",
   "metadata": {},
   "source": [
    "### Encoding Data"
   ]
  },
  {
   "cell_type": "code",
   "execution_count": 646,
   "id": "3889ab9c",
   "metadata": {},
   "outputs": [
    {
     "data": {
      "text/plain": [
       "Survived           int64\n",
       "Pclass             int64\n",
       "Sex               object\n",
       "Age              float64\n",
       "Fare             float64\n",
       "Embarked          object\n",
       "FamilyMembers      int64\n",
       "dtype: object"
      ]
     },
     "execution_count": 646,
     "metadata": {},
     "output_type": "execute_result"
    }
   ],
   "source": [
    "# Data types\n",
    "\n",
    "df.dtypes"
   ]
  },
  {
   "cell_type": "code",
   "execution_count": 647,
   "id": "04339f94",
   "metadata": {},
   "outputs": [],
   "source": [
    "# Encode 'Sex' as binary\n",
    "\n",
    "df['Sex'] = df['Sex'].map({'male': 0, 'female': 1})\n",
    "\n",
    "\n",
    "# One-hot encode 'Embarked' (nominal)\n",
    "\n",
    "embarked_dummies = pd.get_dummies(df['Embarked'], prefix='Embarked', drop_first=True)\n",
    "\n",
    "\n",
    "# Drop original 'Embarked' column and add dummy columns\n",
    "\n",
    "df = pd.concat([df.drop('Embarked', axis=1), embarked_dummies], axis=1)"
   ]
  },
  {
   "cell_type": "markdown",
   "id": "42b98cdd",
   "metadata": {},
   "source": [
    "Data Encoding:\n",
    "+ Sex: Converted from categorical to binary numerical format, with male = 0 and female = 1.\n",
    "+ Embarked: One-hot encoding applied to create dummy variables for each category. Two new columns, Embarked_Q and Embarked_S, are generated, while Embarked_C is intentionally dropped to prevent multicollinearity. A row with both Embarked_Q and Embarked_S as False implies the passenger embarked at C.\n",
    "+ Pclass: Kept in its original form, as it is an ordinal variable representing passenger class (1st, 2nd, 3rd). However, if modelling results indicate non-linear or complex interactions, one-hot encoding may be applied later to better capture these relationships."
   ]
  },
  {
   "cell_type": "code",
   "execution_count": 648,
   "id": "9523e799",
   "metadata": {},
   "outputs": [
    {
     "data": {
      "text/plain": [
       "Survived         int64\n",
       "Pclass           int64\n",
       "Sex              int64\n",
       "Age              int64\n",
       "Fare             int64\n",
       "FamilyMembers    int64\n",
       "Embarked_Q       int64\n",
       "Embarked_S       int64\n",
       "dtype: object"
      ]
     },
     "execution_count": 648,
     "metadata": {},
     "output_type": "execute_result"
    }
   ],
   "source": [
    "# Change data types to integers\n",
    "\n",
    "df = df.astype(int)\n",
    "df.dtypes"
   ]
  },
  {
   "cell_type": "markdown",
   "id": "b85da5ef",
   "metadata": {},
   "source": [
    "All values have been converted to integers, meaning any boolean value that was previously True is now 1, and any False is now 0."
   ]
  },
  {
   "cell_type": "code",
   "execution_count": 649,
   "id": "ede8b93f",
   "metadata": {},
   "outputs": [
    {
     "data": {
      "text/html": [
       "<div>\n",
       "<style scoped>\n",
       "    .dataframe tbody tr th:only-of-type {\n",
       "        vertical-align: middle;\n",
       "    }\n",
       "\n",
       "    .dataframe tbody tr th {\n",
       "        vertical-align: top;\n",
       "    }\n",
       "\n",
       "    .dataframe thead th {\n",
       "        text-align: right;\n",
       "    }\n",
       "</style>\n",
       "<table border=\"1\" class=\"dataframe\">\n",
       "  <thead>\n",
       "    <tr style=\"text-align: right;\">\n",
       "      <th></th>\n",
       "      <th>Survived</th>\n",
       "      <th>Pclass</th>\n",
       "      <th>Sex</th>\n",
       "      <th>Age</th>\n",
       "      <th>Fare</th>\n",
       "      <th>FamilyMembers</th>\n",
       "      <th>Embarked_Q</th>\n",
       "      <th>Embarked_S</th>\n",
       "    </tr>\n",
       "  </thead>\n",
       "  <tbody>\n",
       "    <tr>\n",
       "      <th>0</th>\n",
       "      <td>0</td>\n",
       "      <td>3</td>\n",
       "      <td>0</td>\n",
       "      <td>22</td>\n",
       "      <td>7</td>\n",
       "      <td>2</td>\n",
       "      <td>0</td>\n",
       "      <td>1</td>\n",
       "    </tr>\n",
       "    <tr>\n",
       "      <th>1</th>\n",
       "      <td>1</td>\n",
       "      <td>1</td>\n",
       "      <td>1</td>\n",
       "      <td>38</td>\n",
       "      <td>71</td>\n",
       "      <td>2</td>\n",
       "      <td>0</td>\n",
       "      <td>0</td>\n",
       "    </tr>\n",
       "    <tr>\n",
       "      <th>2</th>\n",
       "      <td>1</td>\n",
       "      <td>3</td>\n",
       "      <td>1</td>\n",
       "      <td>26</td>\n",
       "      <td>7</td>\n",
       "      <td>1</td>\n",
       "      <td>0</td>\n",
       "      <td>1</td>\n",
       "    </tr>\n",
       "    <tr>\n",
       "      <th>3</th>\n",
       "      <td>1</td>\n",
       "      <td>1</td>\n",
       "      <td>1</td>\n",
       "      <td>35</td>\n",
       "      <td>53</td>\n",
       "      <td>2</td>\n",
       "      <td>0</td>\n",
       "      <td>1</td>\n",
       "    </tr>\n",
       "    <tr>\n",
       "      <th>4</th>\n",
       "      <td>0</td>\n",
       "      <td>3</td>\n",
       "      <td>0</td>\n",
       "      <td>35</td>\n",
       "      <td>8</td>\n",
       "      <td>1</td>\n",
       "      <td>0</td>\n",
       "      <td>1</td>\n",
       "    </tr>\n",
       "  </tbody>\n",
       "</table>\n",
       "</div>"
      ],
      "text/plain": [
       "   Survived  Pclass  Sex  Age  Fare  FamilyMembers  Embarked_Q  Embarked_S\n",
       "0         0       3    0   22     7              2           0           1\n",
       "1         1       1    1   38    71              2           0           0\n",
       "2         1       3    1   26     7              1           0           1\n",
       "3         1       1    1   35    53              2           0           1\n",
       "4         0       3    0   35     8              1           0           1"
      ]
     },
     "execution_count": 649,
     "metadata": {},
     "output_type": "execute_result"
    }
   ],
   "source": [
    "# Updated dataframe\n",
    "\n",
    "df.head()"
   ]
  },
  {
   "cell_type": "markdown",
   "id": "0cc67ad1",
   "metadata": {},
   "source": [
    "## Data Modelling"
   ]
  },
  {
   "cell_type": "markdown",
   "id": "10adda36",
   "metadata": {},
   "source": [
    "### Define Features & Targets"
   ]
  },
  {
   "cell_type": "code",
   "execution_count": 650,
   "id": "0154014a",
   "metadata": {},
   "outputs": [],
   "source": [
    "# Defining X & y\n",
    "\n",
    "X = df.drop('Survived', axis=1)\n",
    "y = df['Survived']"
   ]
  },
  {
   "cell_type": "markdown",
   "id": "3ba40d5f",
   "metadata": {},
   "source": [
    "In this step, the dataset is separated into input features and the target variable. The input features, denoted as X, include all columns except the 'Survived' column. The target variable, denoted as y, is the 'Survived' column, which indicates whether a passenger survived (1) or not (0).\n",
    "\n",
    "This separation is essential for training machine learning models, where X provides the data used to make predictions, and y represents the outcome to be predicted."
   ]
  },
  {
   "cell_type": "markdown",
   "id": "765ae450",
   "metadata": {},
   "source": [
    "### Train-Test Split"
   ]
  },
  {
   "cell_type": "code",
   "execution_count": 651,
   "id": "23da2969",
   "metadata": {},
   "outputs": [],
   "source": [
    "# Splitting the dataset\n",
    "\n",
    "X_train, X_test, y_train, y_test = train_test_split(X, y, test_size=0.2, random_state=42)"
   ]
  },
  {
   "cell_type": "markdown",
   "id": "599536ba",
   "metadata": {},
   "source": [
    "The dataset is split into two parts: one for training the model and one for testing it.\n",
    "+ X_train and y_train are used to train the model.\n",
    "+ X_test and y_test are used to evaluate the model's performance on new, unseen data.\n",
    "\n",
    "Eighty percent of the data is allocated for training, and twenty percent for testing. The parameter random_state=42 is used to ensure that the split remains consistent across multiple runs, supporting reproducibility."
   ]
  },
  {
   "cell_type": "markdown",
   "id": "c52c624c",
   "metadata": {},
   "source": [
    "### Feature-Scaling"
   ]
  },
  {
   "cell_type": "code",
   "execution_count": 652,
   "id": "50cb9714",
   "metadata": {},
   "outputs": [],
   "source": [
    "# Scaling the data\n",
    "\n",
    "scaler = StandardScaler()\n",
    "\n",
    "X_train_scaled = scaler.fit_transform(X_train)\n",
    "X_test_scaled = scaler.transform(X_test)"
   ]
  },
  {
   "cell_type": "markdown",
   "id": "815c837c",
   "metadata": {},
   "source": [
    "Before training the Logistic Regression model, the input features are scaled using StandardScaler. This standardisation transforms the data so that each feature has a mean of 0 and a standard deviation of 1.\n",
    "\n",
    "Scaling is applied only to the training and test data used for Logistic Regression, as this model is sensitive to the scale of input features. In contrast, scaling is not required for models such as Random Forests, which are unaffected by the magnitude of features."
   ]
  },
  {
   "cell_type": "markdown",
   "id": "332a2a25",
   "metadata": {},
   "source": [
    "### Train Logistic Regression"
   ]
  },
  {
   "cell_type": "code",
   "execution_count": 653,
   "id": "b9a6a7ed",
   "metadata": {},
   "outputs": [],
   "source": [
    "# Initialise model\n",
    "\n",
    "lr = LogisticRegression(max_iter=1000)\n",
    "\n",
    "\n",
    "# Fit model to training data\n",
    "\n",
    "lr.fit(X_train_scaled, y_train)\n",
    "\n",
    "\n",
    "# Predicting the test data\n",
    "\n",
    "y_pred_lr = lr.predict(X_test_scaled)\n",
    "\n",
    "\n",
    "# Accuracy score\n",
    "\n",
    "acc_lr = accuracy_score(y_test, y_pred_lr)"
   ]
  },
  {
   "cell_type": "markdown",
   "id": "7bff8bb2",
   "metadata": {},
   "source": [
    "A Logistic Regression model is used to predict whether a passenger survived or not.\n",
    "+ The model is initialised with max_iter=1000, allowing the algorithm to run for more iterations if necessary to reach on an optimal solution.\n",
    "+ The model is then trained using the scaled training data (X_train_scaled and y_train).\n",
    "+ After training, predictions are made on the test data using X_test_scaled.\n",
    "\n",
    "The model's performance is evaluated using accuracy, which indicates the percentage of correct predictions."
   ]
  },
  {
   "cell_type": "markdown",
   "id": "ed88d700",
   "metadata": {},
   "source": [
    "### Train Random Forest"
   ]
  },
  {
   "cell_type": "code",
   "execution_count": 654,
   "id": "2ce3d824",
   "metadata": {},
   "outputs": [],
   "source": [
    "# Random forest model object\n",
    "\n",
    "rf = RandomForestClassifier(n_estimators=100, random_state=42)\n",
    "\n",
    "\n",
    "# Fit model to training data\n",
    "\n",
    "rf.fit(X_train, y_train)\n",
    "\n",
    "\n",
    "# Predicting the test data\n",
    "\n",
    "y_pred_rf = rf.predict(X_test)\n",
    "\n",
    "\n",
    "# Accuracy score\n",
    "\n",
    "acc_rf = accuracy_score(y_test, y_pred_rf)"
   ]
  },
  {
   "cell_type": "markdown",
   "id": "29f249c4",
   "metadata": {},
   "source": [
    "A Random Forest Classifier is used to predict passenger survival. This model is initialised with 100 estimators (n_estimators=100) and a random state of 42 to ensure consistent results across runs.\n",
    "\n",
    "The model is then fitted to the training data using X_train and y_train. After training, predictions are generated on the test dataset using X_test, and the results are stored in y_pred_rf.\n",
    "\n",
    "To evaluate the model’s performance, accuracy is calculated by comparing the predicted values (y_pred_rf) with the actual target values (y_test). The resulting accuracy score (acc_rf) represents the proportion of correct predictions made by the model."
   ]
  },
  {
   "cell_type": "markdown",
   "id": "3c689359",
   "metadata": {},
   "source": [
    "### Model Comparison"
   ]
  },
  {
   "cell_type": "code",
   "execution_count": 655,
   "id": "061a3a38",
   "metadata": {},
   "outputs": [
    {
     "name": "stdout",
     "output_type": "stream",
     "text": [
      "Accuracy Score\n",
      "Logistic Regression: 0.8045\n",
      "Random Forest:       0.8268\n"
     ]
    }
   ],
   "source": [
    "# Accuracy score comparison\n",
    "\n",
    "print(\"Accuracy Score\")\n",
    "print(f\"Logistic Regression: {acc_lr:.4f}\")\n",
    "print(f\"Random Forest:       {acc_rf:.4f}\")"
   ]
  },
  {
   "cell_type": "markdown",
   "id": "e9105311",
   "metadata": {},
   "source": [
    "Both Logistic Regression and Random Forest models can be evaluated using the accuracy score.\n",
    "+ The Logistic Regression model achieved an accuracy of 0.8045, meaning it correctly classified approximately 80.45% of the test samples.\n",
    "+ The Random Forest model outperformed Logistic Regression, with an accuracy of 0.8268, correctly predicting 82.68% of the test cases.\n",
    "\n",
    "This comparison demonstrates that the Random Forest model delivers better predictive performance on this dataset, likely because it can capture complex relationships and feature interactions by forming nonlinear and more flexible decision boundaries."
   ]
  },
  {
   "cell_type": "markdown",
   "id": "75b7ec2e",
   "metadata": {},
   "source": [
    "## Comparing Models"
   ]
  },
  {
   "cell_type": "markdown",
   "id": "e5addc73",
   "metadata": {},
   "source": [
    "#### Classification Report"
   ]
  },
  {
   "cell_type": "code",
   "execution_count": 656,
   "id": "9f466d23",
   "metadata": {},
   "outputs": [
    {
     "name": "stdout",
     "output_type": "stream",
     "text": [
      "Logistic Regression - Classification Report\n",
      "              precision    recall  f1-score   support\n",
      "\n",
      "           0       0.82      0.86      0.84       105\n",
      "           1       0.78      0.73      0.76        74\n",
      "\n",
      "    accuracy                           0.80       179\n",
      "   macro avg       0.80      0.79      0.80       179\n",
      "weighted avg       0.80      0.80      0.80       179\n",
      "\n",
      "Random Forest - Classification Report\n",
      "              precision    recall  f1-score   support\n",
      "\n",
      "           0       0.86      0.84      0.85       105\n",
      "           1       0.78      0.81      0.79        74\n",
      "\n",
      "    accuracy                           0.83       179\n",
      "   macro avg       0.82      0.82      0.82       179\n",
      "weighted avg       0.83      0.83      0.83       179\n",
      "\n"
     ]
    }
   ],
   "source": [
    "# Logistic Regression\n",
    "\n",
    "print(\"Logistic Regression - Classification Report\")\n",
    "print(classification_report(y_test, y_pred_lr))\n",
    "\n",
    "\n",
    "# Random Forest\n",
    "\n",
    "print(\"Random Forest - Classification Report\")\n",
    "print(classification_report(y_test, y_pred_rf))"
   ]
  },
  {
   "cell_type": "markdown",
   "id": "89a0c677",
   "metadata": {},
   "source": [
    "Dataset:\n",
    "+ Test set with 179 samples (Class 0: 105 samples, Class 1: 74 samples).\n",
    "\n",
    "Overall Accuracy:\n",
    "+ Logistic Regression achieved an accuracy of 80% on the test set.\n",
    "+ Random Forest performed better with an accuracy of 83%.\n",
    "\n",
    "Interpretation:\n",
    "+ Both models demonstrate strong predictive ability, with solid precision and recall scores for both classes.\n",
    "+ The Random Forest model shows a clear advantage overall, with higher accuracy and better balance between precision and recall, especially for Class 1.\n",
    "+ Logistic Regression shows slightly better recall for Class 0, but Random Forest’s improved recall for Class 1 makes it more reliable for detecting positive cases.\n",
    "\n",
    "Conclusion:\n",
    "+ The Random Forest classifier outperforms Logistic Regression across most metrics, making it the preferred model for this classification task."
   ]
  },
  {
   "cell_type": "markdown",
   "id": "9180fd62",
   "metadata": {},
   "source": [
    "#### Confusion Matrix"
   ]
  },
  {
   "cell_type": "code",
   "execution_count": 657,
   "id": "7a8042da",
   "metadata": {},
   "outputs": [],
   "source": [
    "# Logistic Regression\n",
    "\n",
    "cm_lr = confusion_matrix(y_test, y_pred_lr)\n",
    "\n",
    "\n",
    "# Random Forest\n",
    "\n",
    "cm_rf = confusion_matrix(y_test, y_pred_rf)"
   ]
  },
  {
   "cell_type": "code",
   "execution_count": 658,
   "id": "b0f0779a",
   "metadata": {},
   "outputs": [
    {
     "data": {
      "image/png": "[encoded data removed]",
      "text/plain": [
       "<Figure size 1200x500 with 4 Axes>"
      ]
     },
     "metadata": {},
     "output_type": "display_data"
    }
   ],
   "source": [
    "# Plotting confusion matrix\n",
    "\n",
    "fig, axes = plt.subplots(1, 2, figsize=(12, 5))\n",
    "\n",
    "\n",
    "# Logistic Regression\n",
    "\n",
    "sns.heatmap(cm_lr, annot=True, fmt='d', cmap='Blues', ax=axes[0])\n",
    "axes[0].set_title(\"Logistic Regression Confusion Matrix\")\n",
    "axes[0].set_xlabel(\"Predicted\")\n",
    "axes[0].set_ylabel(\"Actual\")\n",
    "\n",
    "\n",
    "# Random Forest\n",
    "\n",
    "sns.heatmap(cm_rf, annot=True, fmt='d', cmap='Greens', ax=axes[1])\n",
    "axes[1].set_title(\"Random Forest Confusion Matrix\")\n",
    "axes[1].set_xlabel(\"Predicted\")\n",
    "axes[1].set_ylabel(\"Actual\")\n",
    "\n",
    "plt.tight_layout()\n",
    "plt.show()"
   ]
  },
  {
   "cell_type": "markdown",
   "id": "1e6144cf",
   "metadata": {},
   "source": [
    "Interpretation:\n",
    "+ True Negatives (TN): Both models correctly predicted around 88–90 instances of Class 0.\n",
    "+ True Positives (TP): Random Forest correctly identified 60 instances of Class 1, compared to 54 by Logistic Regression.\n",
    "+ False Positives (FP): Logistic Regression had fewer false positives (15) than Random Forest (17).\n",
    "+ False Negatives (FN): Random Forest had fewer false negatives (14) than Logistic Regression (20), meaning it missed fewer actual positives.\n",
    "\n",
    "Key Takeaways:\n",
    "+ Random Forest demonstrates better sensitivity (recall) for identifying positive cases (Class 1) by reducing false negatives.\n",
    "+ Logistic Regression is slightly more conservative, with fewer false positives.\n",
    "+ Overall, Random Forest provides a more balanced performance, making it a stronger candidate when recall of positive cases is important (e.g. survival detection in Titanic dataset)."
   ]
  },
  {
   "cell_type": "markdown",
   "id": "5f60f076",
   "metadata": {},
   "source": [
    "#### ROC-AUC Score"
   ]
  },
  {
   "cell_type": "code",
   "execution_count": 659,
   "id": "ffa51d6a",
   "metadata": {},
   "outputs": [
    {
     "name": "stdout",
     "output_type": "stream",
     "text": [
      "Logistic Regression - ROC AUC Score: 0.8891\n",
      "Random Forest - ROC AUC Score: 0.8837\n"
     ]
    }
   ],
   "source": [
    "# Logistic Regression: Predict Probabilities\n",
    "\n",
    "y_prob_lr = lr.predict_proba(X_test_scaled)[:, 1]\n",
    "roc_auc_lr = roc_auc_score(y_test, y_prob_lr)\n",
    "print(\"Logistic Regression - ROC AUC Score:\", roc_auc_lr.round(4))\n",
    "\n",
    "\n",
    "# Random Forest: Predict Probabilities\n",
    "\n",
    "y_prob_rf = rf.predict_proba(X_test)[:, 1]\n",
    "roc_auc_rf = roc_auc_score(y_test, y_prob_rf)\n",
    "print(\"Random Forest - ROC AUC Score:\", roc_auc_rf.round(4))"
   ]
  },
  {
   "cell_type": "markdown",
   "id": "195b8706",
   "metadata": {},
   "source": [
    "Both models demonstrate strong discriminative ability, with ROC AUC scores close to 0.89, indicating they are effective at distinguishing between the positive and negative classes.\n",
    "\n",
    "Although the difference is minimal, Logistic Regression slightly outperforms Random Forest in this metric, suggesting it has a marginally better ability to rank predictions correctly by class probability."
   ]
  },
  {
   "cell_type": "markdown",
   "id": "a869fe29",
   "metadata": {},
   "source": [
    "#### ROC Curve"
   ]
  },
  {
   "cell_type": "code",
   "execution_count": 660,
   "id": "03ff43e4",
   "metadata": {},
   "outputs": [],
   "source": [
    "# Get ROC metrics\n",
    "\n",
    "fpr_lr, tpr_lr, _ = roc_curve(y_test, y_prob_lr)\n",
    "fpr_rf, tpr_rf, _ = roc_curve(y_test, y_prob_rf)\n",
    "\n",
    "auc_lr = auc(fpr_lr, tpr_lr)\n",
    "auc_rf = auc(fpr_rf, tpr_rf)"
   ]
  },
  {
   "cell_type": "markdown",
   "id": "4c94eb24",
   "metadata": {},
   "source": [
    "While the AUC scores computed using both methods are the same, this format is used to extract the FPR and TPR values, which are necessary for plotting the ROC curve."
   ]
  },
  {
   "cell_type": "code",
   "execution_count": 661,
   "id": "9f929e0c",
   "metadata": {},
   "outputs": [
    {
     "data": {
      "image/png": "[encoded data removed]",
      "text/plain": [
       "<Figure size 800x600 with 1 Axes>"
      ]
     },
     "metadata": {},
     "output_type": "display_data"
    }
   ],
   "source": [
    "# Plot ROC Curve\n",
    "\n",
    "plt.figure(figsize=(8, 6))\n",
    "sns.lineplot(x=fpr_lr, y=tpr_lr, label=f\"Logistic Regression (AUC = {auc_lr:.2f})\")\n",
    "sns.lineplot(x=fpr_rf, y=tpr_rf, label=f\"Random Forest (AUC = {auc_rf:.2f})\")\n",
    "sns.lineplot(x=[0, 1], y=[0, 1], linestyle=\"--\", label=\"Random Guess Line\", color=\"grey\")\n",
    "\n",
    "plt.xlabel(\"False Positive Rate\")\n",
    "plt.ylabel(\"True Positive Rate\")\n",
    "plt.title(\"ROC Curve: Logistic Regression vs Random Forest\")\n",
    "plt.tight_layout()\n",
    "plt.show()"
   ]
  },
  {
   "cell_type": "markdown",
   "id": "409576b4",
   "metadata": {},
   "source": [
    "The ROC curve shows that both models perform well, with curves positioned well above the diagonal baseline. Logistic Regression has a slightly higher AUC score (0.89 vs 0.88), indicating it is marginally better at distinguishing between survivors and non-survivors. This is reflected in the ROC curve, where the Logistic Regression line lies slightly above the Random Forest curve across most threshold values.\n",
    "\n",
    "This is reflected in the ROC curve, where the Logistic Regression line lies slightly above the Random Forest curve up to around a threshold of 0.7, indicating better performance in that range. Beyond 0.7, the Random Forest curve slightly surpasses Logistic Regression, suggesting that it performs marginally better at higher thresholds. Overall, Logistic Regression maintains a slightly higher AUC, indicating better overall discriminatory ability."
   ]
  },
  {
   "cell_type": "markdown",
   "id": "6657c49b",
   "metadata": {},
   "source": [
    "## Interpretation"
   ]
  },
  {
   "cell_type": "markdown",
   "id": "2bfe4a71",
   "metadata": {},
   "source": [
    "To gain insight into how each feature impacts passenger survival, feature importance is analysed using both Logistic Regression coefficients and Random Forest importance scores."
   ]
  },
  {
   "cell_type": "markdown",
   "id": "ff10b708",
   "metadata": {},
   "source": [
    "#### Logistic Regression"
   ]
  },
  {
   "cell_type": "code",
   "execution_count": 662,
   "id": "b279aba9",
   "metadata": {},
   "outputs": [
    {
     "name": "stdout",
     "output_type": "stream",
     "text": [
      "Sex              1.28\n",
      "Fare             0.13\n",
      "Embarked_Q      -0.08\n",
      "Embarked_S      -0.20\n",
      "FamilyMembers   -0.39\n",
      "Age             -0.40\n",
      "Pclass          -0.78\n",
      "dtype: float64\n"
     ]
    }
   ],
   "source": [
    "# Check coefficients to understand feature impact\n",
    "\n",
    "coefficients = pd.Series(lr.coef_[0], index=X.columns).sort_values(ascending=False)\n",
    "print(coefficients.round(2))"
   ]
  },
  {
   "cell_type": "code",
   "execution_count": 663,
   "id": "c74596ad",
   "metadata": {},
   "outputs": [
    {
     "data": {
      "image/png": "[encoded data removed]",
      "text/plain": [
       "<Figure size 640x480 with 1 Axes>"
      ]
     },
     "metadata": {},
     "output_type": "display_data"
    }
   ],
   "source": [
    "# Plotting coefficients\n",
    "\n",
    "sns.barplot(x=coefficients.values, y=coefficients.index, palette='coolwarm', \n",
    "            hue=coefficients.index, legend=False)\n",
    "plt.title(\"Logistic Regression: Coefficients\")\n",
    "plt.xlabel(\"Coefficient Value\")\n",
    "plt.ylabel(\"Feature\")\n",
    "plt.show()"
   ]
  },
  {
   "cell_type": "markdown",
   "id": "cea7af79",
   "metadata": {},
   "source": [
    "#### Random Forest"
   ]
  },
  {
   "cell_type": "code",
   "execution_count": 664,
   "id": "8bfc50a6",
   "metadata": {},
   "outputs": [
    {
     "name": "stdout",
     "output_type": "stream",
     "text": [
      "Age              0.298877\n",
      "Sex              0.278270\n",
      "Fare             0.219805\n",
      "Pclass           0.087351\n",
      "FamilyMembers    0.080471\n",
      "Embarked_S       0.025673\n",
      "Embarked_Q       0.009554\n",
      "dtype: float64\n"
     ]
    }
   ],
   "source": [
    "# Check feature importance\n",
    "\n",
    "importances = pd.Series(rf.feature_importances_, index=X.columns).sort_values(ascending=False)\n",
    "print(importances)"
   ]
  },
  {
   "cell_type": "code",
   "execution_count": 665,
   "id": "80525d0f",
   "metadata": {},
   "outputs": [
    {
     "data": {
      "image/png": "[encoded data removed]",
      "text/plain": [
       "<Figure size 640x480 with 1 Axes>"
      ]
     },
     "metadata": {},
     "output_type": "display_data"
    }
   ],
   "source": [
    "# Plotting feature importance\n",
    "\n",
    "sns.barplot(x=importances.values, y=importances.index)\n",
    "plt.title(\"Random Forest: Feature Importances\")\n",
    "plt.ylabel(\"Importance\")\n",
    "plt.xlabel(\"Feature\")\n",
    "plt.show()"
   ]
  },
  {
   "cell_type": "markdown",
   "id": "cbf47b1d",
   "metadata": {},
   "source": [
    "#### Feature Comparison\n",
    "\n",
    "Both the Logistic Regression and Random Forest models provide insight into which features most influence the prediction of passenger survival, but they do so in different ways. Logistic Regression provides coefficients that indicate the direction and strength of a feature's impact on the outcome, while Random Forest provides feature importance scores that reflect the relative contribution of each feature to the model’s predictive power.\n",
    "\n",
    "Key Similarities:\n",
    "\n",
    "Sex\n",
    "+ Logistic Regression: Has the strongest positive coefficient (+1.28), indicating that being female significantly increases the chance of survival.\n",
    "+ Random Forest: Also ranks Sex as one of the most important features, highlighting its critical role in survival prediction.\n",
    "\n",
    "Fare\n",
    "+ Logistic Regression: Positive coefficient (+0.13), showing that higher fare is associated with better survival odds.\n",
    "+ Random Forest: Considered one of the top features, reinforcing its importance in predicting survival, likely due to its correlation with passenger class and socio-economic status.\n",
    "\n",
    "Pclass\n",
    "+ Logistic Regression: Strong negative coefficient (–0.78), indicating that lower-class passengers (higher Pclass values) had lower survival rates.\n",
    "+ Random Forest: Assigned meaningful importance, confirming that passenger class has a significant effect on survival predictions.\n",
    "\n",
    "Age\n",
    "+ Logistic Regression: Negative coefficient (–0.40), suggesting older passengers were less likely to survive.\n",
    "+ Random Forest: Ranked as the most influential feature, indicating that age contributes substantially to prediction accuracy.\n",
    "\n",
    "FamilyMembers\n",
    "+ Logistic Regression: Negative coefficient (–0.39), suggesting that passengers traveling in larger families had reduced survival chances.\n",
    "+ Random Forest: Given moderate importance, supporting its relevance though possibly capturing more complex, non-linear effects.\n",
    "\n",
    "Embarked_S and Embarked_Q\n",
    "+ Logistic Regression: Both have small negative coefficients, indicating slightly reduced survival odds compared to the reference point (Embarked_C).\n",
    "+ Random Forest: Considered less important, aligning with the idea that embarkation point is a minor factor relative to demographics and socio-economic indicators.\n",
    "\n",
    "Overall, the coefficients and feature importance rankings are consistent with historical findings, highlighting demographics, gender, and socio-economic status as key determinants of survival.\n",
    "\n",
    "Key Differences:\n",
    "\n",
    "Interpretability\n",
    "+ Logistic Regression provides interpretable coefficients that directly indicate the effect (positive or negative) of each feature on survival. In contrast, Random Forest offers importance rankings but not the direction of impact.\n",
    "\n",
    "Feature Interactions\n",
    "+ Random Forest can model non-linear relationships and interactions between variables (e.g. how Age and Pclass might interact), which Logistic Regression cannot capture unless explicitly engineered.\n",
    "\n",
    "Age vs Sex Ranking\n",
    "+ In Logistic Regression, Sex is the most influential feature, while in Random Forest, Age takes the top position. This may indicate that the Random Forest model is better at capturing more complex age-related survival patterns."
   ]
  },
  {
   "cell_type": "markdown",
   "id": "a9aad5ff",
   "metadata": {},
   "source": [
    "## Conclusion"
   ]
  },
  {
   "cell_type": "markdown",
   "id": "db9ef68d",
   "metadata": {},
   "source": [
    "Initially it was planned to run Logistic Regression and Random Forest with and without the Embarked features (Embarked_S, Embarked_Q) to assess their contribution and rule out multicollinearity.\n",
    "\n",
    "Upon review:\n",
    "+ In Logistic Regression, their coefficients (.coef_) were small, indicating little influence on the prediction.\n",
    "+ In Random Forest, their feature importances were also low, meaning the model barely used them to make decisions.\n",
    "\n",
    "Interpretation & Justification:\n",
    "+ Low weight in both linear and non-linear models suggests these features contribute very little predictive power.\n",
    "+ There's no strong evidence of multicollinearity (especially since Random Forest is not sensitive to it), and logistic regression didn't show instability.\n",
    "+ Therefore, running additional models without Embarked features is unlikely to yield significant performance changes.\n",
    "+ Removing them would add unnecessary complexity without meaningful insight.\n",
    "\n",
    "Overall, Random Forest is the preferred modelling approach over Logistic Regression. It consistently delivered stronger performance across multiple evaluation metrics, including:\n",
    "+ Higher accuracy score\n",
    "+ Improved classification report metrics, including precision, recall, and F1-score\n",
    "+ Better confusion matrix results, with fewer misclassifications\n",
    "+ A comparable ROC-AUC score, indicating similarly strong ability to distinguish between classes\n",
    "\n",
    "These results suggest that Random Forest provides a more robust and accurate predictive model for this classification task."
   ]
  },
  {
   "cell_type": "markdown",
   "id": "0aa9cf5c",
   "metadata": {},
   "source": [
    "## Data Export Process"
   ]
  },
  {
   "cell_type": "code",
   "execution_count": 666,
   "id": "868d7795",
   "metadata": {},
   "outputs": [],
   "source": [
    "# Prediction on the full dataset\n",
    "\n",
    "df['Prediction'] = rf.predict(X)\n",
    "\n",
    "\n",
    "# Decode Embarked from one-hot encoded columns\n",
    "\n",
    "def decode_embarked(row):\n",
    "    if row['Embarked_Q'] == 1:\n",
    "        return 'Q'\n",
    "    elif row['Embarked_S'] == 1:\n",
    "        return 'S'\n",
    "    else:\n",
    "        return 'C'\n",
    "\n",
    "df['Embarked_decoded'] = df.apply(decode_embarked, axis=1)\n",
    "\n",
    "\n",
    "# Export dataframe from the main dataframe\n",
    "\n",
    "df_export = df[['Survived', 'Prediction', 'Pclass', 'Sex', 'Age', 'Fare', 'FamilyMembers', 'Embarked_decoded']].copy()\n",
    "\n",
    "\n",
    "# Remapping Sex column back to string labels\n",
    "\n",
    "df_export['Sex'] = df_export['Sex'].map({0: 'male', 1: 'female'})\n",
    "\n",
    "\n",
    "# Export to CSV\n",
    "\n",
    "df_export.to_csv('titanic_dataset_dashboard.csv', index=False)"
   ]
  },
  {
   "cell_type": "markdown",
   "id": "816b2db4",
   "metadata": {},
   "source": [
    "To support dashboard development, a clean dataset was prepared by generating survival predictions using the trained model and selecting key features for analysis. The Embarked variable, originally one-hot encoded, was decoded into a single readable column (C, Q, S). The Sex column was mapped back to readable labels (male, female), and the dataset was exported to CSV without the index to ensure compatibility with visualisation tools like Power BI."
   ]
  },
  {
   "cell_type": "code",
   "execution_count": 667,
   "id": "cd0319cc",
   "metadata": {},
   "outputs": [],
   "source": [
    "# Exporting Classification Report as Dictionary\n",
    "\n",
    "report = classification_report(y_test, y_pred_rf, output_dict=True)\n",
    "\n",
    "\n",
    "# Convert report to a DataFrame\n",
    "\n",
    "df_report = pd.DataFrame(report).transpose()\n",
    "\n",
    "\n",
    "# Save as CSV\n",
    "\n",
    "df_report.to_csv('classification_report.csv', index=True)"
   ]
  },
  {
   "cell_type": "markdown",
   "id": "e52a29d4",
   "metadata": {},
   "source": [
    "A classification report was generated using classification_report() from scikit-learn, it was then converted into a pandas DataFrame, and exported to a CSV file. This was done to import and visualise key model performance metrics directly within my Power BI dashboard."
   ]
  },
  {
   "cell_type": "code",
   "execution_count": 668,
   "id": "a7ab0b09",
   "metadata": {},
   "outputs": [],
   "source": [
    "# Create DataFrame\n",
    "\n",
    "roc_curve_data = pd.DataFrame({\n",
    "    \"False Positive Rate\": fpr_rf,\n",
    "    \"True Positive Rate\": tpr_rf\n",
    "})\n",
    "\n",
    "\n",
    "# Export ROC Curve to CSV\n",
    "\n",
    "roc_curve_data.to_csv('roc_curve_data.csv', index=False)"
   ]
  },
  {
   "cell_type": "markdown",
   "id": "a489bb31",
   "metadata": {},
   "source": [
    "The False Positive Rate (FPR) and True Positive Rate (TPR) have been exported to a CSV file for use in the Power BI dashboard."
   ]
  },
  {
   "cell_type": "code",
   "execution_count": 669,
   "id": "5027a506",
   "metadata": {},
   "outputs": [],
   "source": [
    "# Export Feature Importance to CSV\n",
    "\n",
    "importances.to_csv('feature_importances.csv', header=['Importance'])"
   ]
  },
  {
   "cell_type": "markdown",
   "id": "f9cc2853",
   "metadata": {},
   "source": [
    "The Random Forest feature importances, already stored as a Pandas Series, were exported to a CSV file."
   ]
  }
 ],
 "metadata": {
  "kernelspec": {
   "display_name": "Python (TITANIC)",
   "language": "python",
   "name": "titanic-env"
  },
  "language_info": {
   "codemirror_mode": {
    "name": "ipython",
    "version": 3
   },
   "file_extension": ".py",
   "mimetype": "text/x-python",
   "name": "python",
   "nbconvert_exporter": "python",
   "pygments_lexer": "ipython3",
   "version": "3.12.7"
  }
 },
 "nbformat": 4,
 "nbformat_minor": 5
}
