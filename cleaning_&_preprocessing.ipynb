{
 "cells": [
  {
   "cell_type": "markdown",
   "id": "6a225ebe",
   "metadata": {},
   "source": [
    "# Cleaning & Preprocessing (Titanic Dataset)"
   ]
  },
  {
   "cell_type": "markdown",
   "id": "6ceb3d6e",
   "metadata": {},
   "source": [
    "The aim of this project is to prepare and clean the Titanic dataset, by handling missing values, fixing data types and removing unwanted data to get the data ready for analysis."
   ]
  },
  {
   "cell_type": "markdown",
   "id": "9d0a1a54",
   "metadata": {},
   "source": [
    "# *Libraries & Dataset*"
   ]
  },
  {
   "cell_type": "code",
   "execution_count": 1,
   "id": "bdfbcc53",
   "metadata": {},
   "outputs": [],
   "source": [
    "# Import libraries\n",
    "\n",
    "import pandas as pd\n",
    "import numpy as np"
   ]
  },
  {
   "cell_type": "code",
   "execution_count": 2,
   "id": "2a27597a",
   "metadata": {},
   "outputs": [],
   "source": [
    "# Read the dataset\n",
    "\n",
    "df = pd.read_csv(\"titanic.csv\")"
   ]
  },
  {
   "cell_type": "markdown",
   "id": "4aa66aee",
   "metadata": {},
   "source": [
    "# *Inspecting Raw Data*"
   ]
  },
  {
   "cell_type": "markdown",
   "id": "0f2da9e1",
   "metadata": {},
   "source": [
    "                                                   Column Definitions\n",
    "\n",
    "PassengerId\t- A unique ID assigned to each passenger.\n",
    "\n",
    "Survived - Survival status: 0 = Did not survive, 1 = Survived.\n",
    "\n",
    "Pclass - Passenger class: 1 = First class, 2 = Second class, 3 = Third class.\n",
    "\n",
    "Name - Name of the passenger.\n",
    "\n",
    "Sex - Gender of the passenger: male or female.\n",
    "\n",
    "Age - Age of the passenger. \n",
    "\n",
    "SibSp - Number of siblings or spouses aboard the Titanic with the passenger.\n",
    "\n",
    "Parch - Number of parents or children aboard the Titanic with the passenger.\n",
    "\n",
    "Ticket - Ticket number.\n",
    "\n",
    "Fare - Price paid by the passengr for the ticket.\n",
    "\n",
    "Cabin - Cabin number where the passenger stayed.\n",
    "\n",
    "Embarked - Port of Embarkation: C = Cherbourg, Q = Queenstown, S = Southampton."
   ]
  },
  {
   "cell_type": "code",
   "execution_count": 3,
   "id": "e38d9f02",
   "metadata": {},
   "outputs": [
    {
     "data": {
      "text/html": [
       "<div>\n",
       "<style scoped>\n",
       "    .dataframe tbody tr th:only-of-type {\n",
       "        vertical-align: middle;\n",
       "    }\n",
       "\n",
       "    .dataframe tbody tr th {\n",
       "        vertical-align: top;\n",
       "    }\n",
       "\n",
       "    .dataframe thead th {\n",
       "        text-align: right;\n",
       "    }\n",
       "</style>\n",
       "<table border=\"1\" class=\"dataframe\">\n",
       "  <thead>\n",
       "    <tr style=\"text-align: right;\">\n",
       "      <th></th>\n",
       "      <th>PassengerId</th>\n",
       "      <th>Survived</th>\n",
       "      <th>Pclass</th>\n",
       "      <th>Name</th>\n",
       "      <th>Sex</th>\n",
       "      <th>Age</th>\n",
       "      <th>SibSp</th>\n",
       "      <th>Parch</th>\n",
       "      <th>Ticket</th>\n",
       "      <th>Fare</th>\n",
       "      <th>Cabin</th>\n",
       "      <th>Embarked</th>\n",
       "    </tr>\n",
       "  </thead>\n",
       "  <tbody>\n",
       "    <tr>\n",
       "      <th>0</th>\n",
       "      <td>1</td>\n",
       "      <td>0</td>\n",
       "      <td>3</td>\n",
       "      <td>Braund, Mr. Owen Harris</td>\n",
       "      <td>male</td>\n",
       "      <td>22.0</td>\n",
       "      <td>1</td>\n",
       "      <td>0</td>\n",
       "      <td>A/5 21171</td>\n",
       "      <td>7.2500</td>\n",
       "      <td>NaN</td>\n",
       "      <td>S</td>\n",
       "    </tr>\n",
       "    <tr>\n",
       "      <th>1</th>\n",
       "      <td>2</td>\n",
       "      <td>1</td>\n",
       "      <td>1</td>\n",
       "      <td>Cumings, Mrs. John Bradley (Florence Briggs Th...</td>\n",
       "      <td>female</td>\n",
       "      <td>38.0</td>\n",
       "      <td>1</td>\n",
       "      <td>0</td>\n",
       "      <td>PC 17599</td>\n",
       "      <td>71.2833</td>\n",
       "      <td>C85</td>\n",
       "      <td>C</td>\n",
       "    </tr>\n",
       "    <tr>\n",
       "      <th>2</th>\n",
       "      <td>3</td>\n",
       "      <td>1</td>\n",
       "      <td>3</td>\n",
       "      <td>Heikkinen, Miss. Laina</td>\n",
       "      <td>female</td>\n",
       "      <td>26.0</td>\n",
       "      <td>0</td>\n",
       "      <td>0</td>\n",
       "      <td>STON/O2. 3101282</td>\n",
       "      <td>7.9250</td>\n",
       "      <td>NaN</td>\n",
       "      <td>S</td>\n",
       "    </tr>\n",
       "    <tr>\n",
       "      <th>3</th>\n",
       "      <td>4</td>\n",
       "      <td>1</td>\n",
       "      <td>1</td>\n",
       "      <td>Futrelle, Mrs. Jacques Heath (Lily May Peel)</td>\n",
       "      <td>female</td>\n",
       "      <td>35.0</td>\n",
       "      <td>1</td>\n",
       "      <td>0</td>\n",
       "      <td>113803</td>\n",
       "      <td>53.1000</td>\n",
       "      <td>C123</td>\n",
       "      <td>S</td>\n",
       "    </tr>\n",
       "    <tr>\n",
       "      <th>4</th>\n",
       "      <td>5</td>\n",
       "      <td>0</td>\n",
       "      <td>3</td>\n",
       "      <td>Allen, Mr. William Henry</td>\n",
       "      <td>male</td>\n",
       "      <td>35.0</td>\n",
       "      <td>0</td>\n",
       "      <td>0</td>\n",
       "      <td>373450</td>\n",
       "      <td>8.0500</td>\n",
       "      <td>NaN</td>\n",
       "      <td>S</td>\n",
       "    </tr>\n",
       "  </tbody>\n",
       "</table>\n",
       "</div>"
      ],
      "text/plain": [
       "   PassengerId  Survived  Pclass  \\\n",
       "0            1         0       3   \n",
       "1            2         1       1   \n",
       "2            3         1       3   \n",
       "3            4         1       1   \n",
       "4            5         0       3   \n",
       "\n",
       "                                                Name     Sex   Age  SibSp  \\\n",
       "0                            Braund, Mr. Owen Harris    male  22.0      1   \n",
       "1  Cumings, Mrs. John Bradley (Florence Briggs Th...  female  38.0      1   \n",
       "2                             Heikkinen, Miss. Laina  female  26.0      0   \n",
       "3       Futrelle, Mrs. Jacques Heath (Lily May Peel)  female  35.0      1   \n",
       "4                           Allen, Mr. William Henry    male  35.0      0   \n",
       "\n",
       "   Parch            Ticket     Fare Cabin Embarked  \n",
       "0      0         A/5 21171   7.2500   NaN        S  \n",
       "1      0          PC 17599  71.2833   C85        C  \n",
       "2      0  STON/O2. 3101282   7.9250   NaN        S  \n",
       "3      0            113803  53.1000  C123        S  \n",
       "4      0            373450   8.0500   NaN        S  "
      ]
     },
     "execution_count": 3,
     "metadata": {},
     "output_type": "execute_result"
    }
   ],
   "source": [
    "# Show the first 5 columns of the raw data\n",
    "\n",
    "df.head()"
   ]
  },
  {
   "cell_type": "code",
   "execution_count": 4,
   "id": "93b91430",
   "metadata": {},
   "outputs": [
    {
     "name": "stdout",
     "output_type": "stream",
     "text": [
      "<class 'pandas.core.frame.DataFrame'>\n",
      "RangeIndex: 891 entries, 0 to 890\n",
      "Data columns (total 12 columns):\n",
      " #   Column       Non-Null Count  Dtype  \n",
      "---  ------       --------------  -----  \n",
      " 0   PassengerId  891 non-null    int64  \n",
      " 1   Survived     891 non-null    int64  \n",
      " 2   Pclass       891 non-null    int64  \n",
      " 3   Name         891 non-null    object \n",
      " 4   Sex          891 non-null    object \n",
      " 5   Age          714 non-null    float64\n",
      " 6   SibSp        891 non-null    int64  \n",
      " 7   Parch        891 non-null    int64  \n",
      " 8   Ticket       891 non-null    object \n",
      " 9   Fare         891 non-null    float64\n",
      " 10  Cabin        204 non-null    object \n",
      " 11  Embarked     889 non-null    object \n",
      "dtypes: float64(2), int64(5), object(5)\n",
      "memory usage: 83.7+ KB\n"
     ]
    }
   ],
   "source": [
    "# Showing the columns, non-null values per column and the data types per column\n",
    "\n",
    "df.info()"
   ]
  },
  {
   "cell_type": "markdown",
   "id": "ca993b3e",
   "metadata": {},
   "source": [
    "In the data cleaning stage, it was identified that the Pclass column, which represents the passenger’s ticket class, contains inconsistent data types. Although originally stored as integers, this column is more appropriately treated as a categorical variable because it denotes distinct classes rather than numeric values. Therefore, Pclass was converted from an integer type to a categorical type. Similarly, the Sex column, which indicates the passenger’s gender with values such as 'male' or 'female',  was also converted from a generic object/string type to a categorical type to optimise memory usage and analysis."
   ]
  },
  {
   "cell_type": "code",
   "execution_count": 5,
   "id": "67645a43",
   "metadata": {},
   "outputs": [
    {
     "data": {
      "text/plain": [
       "(891, 12)"
      ]
     },
     "execution_count": 5,
     "metadata": {},
     "output_type": "execute_result"
    }
   ],
   "source": [
    "# Dataset dimensions rows/columns\n",
    "\n",
    "df.shape"
   ]
  },
  {
   "cell_type": "code",
   "execution_count": 6,
   "id": "a519d6b5",
   "metadata": {},
   "outputs": [
    {
     "data": {
      "text/plain": [
       "PassengerId      0\n",
       "Survived         0\n",
       "Pclass           0\n",
       "Name             0\n",
       "Sex              0\n",
       "Age            177\n",
       "SibSp            0\n",
       "Parch            0\n",
       "Ticket           0\n",
       "Fare             0\n",
       "Cabin          687\n",
       "Embarked         2\n",
       "dtype: int64"
      ]
     },
     "execution_count": 6,
     "metadata": {},
     "output_type": "execute_result"
    }
   ],
   "source": [
    "# Finding missing values per column\n",
    "\n",
    "df.isnull().sum()"
   ]
  },
  {
   "cell_type": "markdown",
   "id": "f13df800",
   "metadata": {},
   "source": [
    "An examination of missing values shows that most columns contain predominantly non-null entries. However, the Age and Cabin columns have a substantial number of missing values. The Age column, in particular, will be addressed in the cleaning process by imputing or replacing these missing values to ensure completeness for analysis."
   ]
  },
  {
   "cell_type": "markdown",
   "id": "812ba81b",
   "metadata": {},
   "source": [
    "# *Data Cleaning*"
   ]
  },
  {
   "cell_type": "code",
   "execution_count": 7,
   "id": "40ca7635",
   "metadata": {},
   "outputs": [
    {
     "data": {
      "text/plain": [
       "count        891\n",
       "unique       681\n",
       "top       347082\n",
       "freq           7\n",
       "Name: Ticket, dtype: object"
      ]
     },
     "execution_count": 7,
     "metadata": {},
     "output_type": "execute_result"
    }
   ],
   "source": [
    "# Checking significance of 'Ticket'\n",
    "\n",
    "df['Ticket'].describe()"
   ]
  },
  {
   "cell_type": "markdown",
   "id": "2722282b",
   "metadata": {},
   "source": [
    "With 681 uinque values it is clear that this column holds little value for further analysis."
   ]
  },
  {
   "cell_type": "code",
   "execution_count": 8,
   "id": "efe90d5a",
   "metadata": {},
   "outputs": [],
   "source": [
    "# Removing unwanted columns\n",
    "\n",
    "df.drop(['PassengerId', 'Name', 'Ticket', 'Cabin'], axis=1, inplace=True)"
   ]
  },
  {
   "cell_type": "markdown",
   "id": "290606bf",
   "metadata": {},
   "source": [
    "Removing irrelevant columns helps streamline the dataset to include only those features that provide meaningful insights. For example, each passenger’s PassengerId is unique, making it unsuitable for drawing any general conclusions. While the Name column also serves as a unique identifier, it holds little analytical value and has been removed to avoid complications during machine learning model development. Finally, the Ticket and Cabin columns are excluded as they offer limited value for further analysis."
   ]
  },
  {
   "cell_type": "code",
   "execution_count": 9,
   "id": "1bae1758",
   "metadata": {},
   "outputs": [],
   "source": [
    "# Filling in missing values\n",
    "\n",
    "df['Age'] = df['Age'].fillna(df['Age'].median())\n",
    "df['Embarked'] = df['Embarked'].fillna(df['Embarked'].mode()[0])"
   ]
  },
  {
   "cell_type": "code",
   "execution_count": 10,
   "id": "34fe62d8",
   "metadata": {},
   "outputs": [
    {
     "data": {
      "text/plain": [
       "Survived    0\n",
       "Pclass      0\n",
       "Sex         0\n",
       "Age         0\n",
       "SibSp       0\n",
       "Parch       0\n",
       "Fare        0\n",
       "Embarked    0\n",
       "dtype: int64"
      ]
     },
     "execution_count": 10,
     "metadata": {},
     "output_type": "execute_result"
    }
   ],
   "source": [
    "# Updated missing values per column\n",
    "\n",
    "df.isnull().sum()"
   ]
  },
  {
   "cell_type": "markdown",
   "id": "b1ea1f5f",
   "metadata": {},
   "source": [
    "From the data inspection, it was identified that the Age and Cabin columns contained a significant number of missing values, while the Embarked column had only two missing entries. Since the Cabin column has been removed, the focus shifted to handling missing values in Age and Embarked.\n",
    "\n",
    "The missing values in the Age column were replaced with the median, which represents the middle value of the distribution. Although the mode was considered as an alternative, it was deemed less suitable due to its sensitivity to outliers. For the Embarked column, the missing values were filled with the mode - the most frequent category in the column. Given there were only two missing values, this replacement is unlikely to introduce significant bias."
   ]
  },
  {
   "cell_type": "code",
   "execution_count": 11,
   "id": "81ff824c",
   "metadata": {},
   "outputs": [
    {
     "data": {
      "text/plain": [
       "Survived      int64\n",
       "Pclass        int64\n",
       "Sex          object\n",
       "Age         float64\n",
       "SibSp         int64\n",
       "Parch         int64\n",
       "Fare        float64\n",
       "Embarked     object\n",
       "dtype: object"
      ]
     },
     "execution_count": 11,
     "metadata": {},
     "output_type": "execute_result"
    }
   ],
   "source": [
    "# Data types per column\n",
    "\n",
    "df.dtypes"
   ]
  },
  {
   "cell_type": "code",
   "execution_count": 12,
   "id": "da32d327",
   "metadata": {},
   "outputs": [],
   "source": [
    "# Changing data types\n",
    "\n",
    "df['Pclass'] = df['Pclass'].astype('category')\n",
    "df['Sex'] = df['Sex'].astype('category')\n",
    "df['Embarked'] = df['Embarked'].astype('category')"
   ]
  },
  {
   "cell_type": "code",
   "execution_count": 13,
   "id": "980f8b75",
   "metadata": {},
   "outputs": [
    {
     "data": {
      "text/plain": [
       "Survived       int64\n",
       "Pclass      category\n",
       "Sex         category\n",
       "Age          float64\n",
       "SibSp          int64\n",
       "Parch          int64\n",
       "Fare         float64\n",
       "Embarked    category\n",
       "dtype: object"
      ]
     },
     "execution_count": 13,
     "metadata": {},
     "output_type": "execute_result"
    }
   ],
   "source": [
    "# Updated data types\n",
    "\n",
    "df.dtypes"
   ]
  },
  {
   "cell_type": "markdown",
   "id": "d2f9d6cc",
   "metadata": {},
   "source": [
    "As noted earlier during the raw data inspection, certain columns required data type conversions. The Sex and Embarked columns were originally stored as objects (strings) and were converted to categorical types. Since these columns contain a limited set of repeating values, converting them to categories improves memory efficiency and analytical performance. The Pclass column, initially an integer, was also converted to a categorical type because its values (1, 2, or 3) represent passenger classes rather than numeric quantities. Treating Pclass as a numeric variable could mislead machine learning models by implying ordinal relationships that do not reflect reality.\n",
    "\n",
    "The Survived column, although numeric, is a binary indicator (0 for deceased, 1 for survived). It is retained as an integer type to allow calculation of statistics such as the mean survival rate, which would not be straightforward if it were treated as a categorical variable."
   ]
  },
  {
   "cell_type": "markdown",
   "id": "af41f425",
   "metadata": {},
   "source": [
    "# *Additional Column*"
   ]
  },
  {
   "cell_type": "code",
   "execution_count": 14,
   "id": "b17eb1d6",
   "metadata": {},
   "outputs": [],
   "source": [
    "# Creating a new column\n",
    "\n",
    "df['FamilyMembers'] = df['SibSp'] + df['Parch'] + 1"
   ]
  },
  {
   "cell_type": "code",
   "execution_count": 15,
   "id": "178a41b2",
   "metadata": {},
   "outputs": [
    {
     "data": {
      "text/plain": [
       "Index(['Survived', 'Pclass', 'Sex', 'Age', 'SibSp', 'Parch', 'Fare',\n",
       "       'Embarked', 'FamilyMembers'],\n",
       "      dtype='object')"
      ]
     },
     "execution_count": 15,
     "metadata": {},
     "output_type": "execute_result"
    }
   ],
   "source": [
    "# Display updated columns\n",
    "\n",
    "df.columns"
   ]
  },
  {
   "cell_type": "markdown",
   "id": "3b9fc56d",
   "metadata": {},
   "source": [
    "A new column was created to represent the total number of family members aboard by combining the SibSp (siblings/spouses) and Parch (parents/children) columns, plus one to include the individual passenger themselves. This aggregated feature has the potential to be a strong indicator of survival, as it consolidates two related variables into a single, more informative one while also reducing data sparsity.\n",
    "\n",
    "For now, the original SibSp and Parch columns will be retained, but they may be removed later depending on their impact on model performance during the machine learning phase."
   ]
  },
  {
   "cell_type": "markdown",
   "id": "d4bb5534",
   "metadata": {},
   "source": [
    "# *Save Cleaned Dataset*"
   ]
  },
  {
   "cell_type": "code",
   "execution_count": 16,
   "id": "7358205a",
   "metadata": {},
   "outputs": [],
   "source": [
    "# Saving CSV\n",
    "\n",
    "df.to_csv(\"titanic_cleaned.csv\", index=False)"
   ]
  },
  {
   "cell_type": "markdown",
   "id": "5de8366e",
   "metadata": {},
   "source": [
    "Cleaned dataset \"titanic_cleaned.csv\" has been saved within my working folder."
   ]
  },
  {
   "cell_type": "code",
   "execution_count": 17,
   "id": "5f1f4ddc",
   "metadata": {},
   "outputs": [],
   "source": [
    "# Saving Feather\n",
    "\n",
    "df.to_feather(\"titanic_cleaned.feather\")"
   ]
  },
  {
   "cell_type": "markdown",
   "id": "25c7f4a8",
   "metadata": {},
   "source": [
    "Cleaned dataset \"titanic_cleaned.feather\" has been saved within my working folder to preserve dtype."
   ]
  }
 ],
 "metadata": {
  "kernelspec": {
   "display_name": "Python (TITANIC)",
   "language": "python",
   "name": "titanic-env"
  },
  "language_info": {
   "codemirror_mode": {
    "name": "ipython",
    "version": 3
   },
   "file_extension": ".py",
   "mimetype": "text/x-python",
   "name": "python",
   "nbconvert_exporter": "python",
   "pygments_lexer": "ipython3",
   "version": "3.12.7"
  }
 },
 "nbformat": 4,
 "nbformat_minor": 5
}
